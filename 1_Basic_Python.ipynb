{
  "nbformat": 4,
  "nbformat_minor": 0,
  "metadata": {
    "colab": {
      "name": "1_Basic_Python.ipynb",
      "provenance": [],
      "collapsed_sections": [
        "8sqQBUj7A7zS"
      ],
      "toc_visible": true
    },
    "kernelspec": {
      "name": "python3",
      "display_name": "Python 3"
    },
    "language_info": {
      "name": "python"
    }
  },
  "cells": [
    {
      "cell_type": "markdown",
      "metadata": {
        "id": "j-ADKGcT6F3H"
      },
      "source": [
        "# 1. Jenis Data\n",
        " \n",
        "Pada Python dan bahasa pemrograman yang lain kita biasanya memiliki format-format data umum yang dibedakan berdasarkan jenis dan fungsinya. Untuk materi ini kita akan mengenal beberapa jenis data umum yaitu data `integer` atau bilangam bulat, `float` atau bilangan desimal, `string` untuk data berupa tulisan. Selain data satuan seperti di atas, kita juga akan mempelajari mengenai data dalam bentuk `sequence` atau urutan angka atau huruf. `sequence` yang akan kita kenalkan adalah `list` dan `tuple`."
      ]
    },
    {
      "cell_type": "markdown",
      "metadata": {
        "id": "7tTJbBm57DI-"
      },
      "source": [
        "## 1.1. Data `integer`, `float`, dan `string`"
      ]
    },
    {
      "cell_type": "code",
      "metadata": {
        "colab": {
          "base_uri": "https://localhost:8080/"
        },
        "id": "lMZUp6p46EAh",
        "outputId": "f7d52b62-4740-4fc4-a2cc-7a040c39b864"
      },
      "source": [
        "# contoh integer\n",
        "a = 10\n",
        "type(a)"
      ],
      "execution_count": null,
      "outputs": [
        {
          "output_type": "execute_result",
          "data": {
            "text/plain": [
              "int"
            ]
          },
          "metadata": {
            "tags": []
          },
          "execution_count": 18
        }
      ]
    },
    {
      "cell_type": "code",
      "metadata": {
        "colab": {
          "base_uri": "https://localhost:8080/"
        },
        "id": "jknWuME37TNs",
        "outputId": "31d462cd-783d-4c85-c2ec-386209f64e18"
      },
      "source": [
        "# contoh float\n",
        "b=10.0\n",
        "type(b)"
      ],
      "execution_count": null,
      "outputs": [
        {
          "output_type": "execute_result",
          "data": {
            "text/plain": [
              "float"
            ]
          },
          "metadata": {
            "tags": []
          },
          "execution_count": 2
        }
      ]
    },
    {
      "cell_type": "code",
      "metadata": {
        "colab": {
          "base_uri": "https://localhost:8080/"
        },
        "id": "Ts-0iodL7YSj",
        "outputId": "b4d63f80-ba49-4153-c47b-3aec2df1fbdd"
      },
      "source": [
        "# contoh string\n",
        "c=\"10\"\n",
        "type(c)"
      ],
      "execution_count": null,
      "outputs": [
        {
          "output_type": "execute_result",
          "data": {
            "text/plain": [
              "str"
            ]
          },
          "metadata": {
            "tags": []
          },
          "execution_count": 3
        }
      ]
    },
    {
      "cell_type": "markdown",
      "metadata": {
        "id": "rP6fVYc3MVM2"
      },
      "source": [
        "### 1.1.1. Operasi Matematika setiap Data"
      ]
    },
    {
      "cell_type": "code",
      "metadata": {
        "colab": {
          "base_uri": "https://localhost:8080/"
        },
        "id": "4wrr4j-O7lBA",
        "outputId": "be845bec-038b-4540-df0e-396ebcc9e303"
      },
      "source": [
        "d=a*b\n",
        "print(d)"
      ],
      "execution_count": null,
      "outputs": [
        {
          "output_type": "stream",
          "text": [
            "100.0\n"
          ],
          "name": "stdout"
        }
      ]
    },
    {
      "cell_type": "code",
      "metadata": {
        "colab": {
          "base_uri": "https://localhost:8080/"
        },
        "id": "OGkQ036c7s6C",
        "outputId": "96abc282-1af9-4fe9-ad6b-37ea33ad8a58"
      },
      "source": [
        "e=a*c\n",
        "print(e)"
      ],
      "execution_count": null,
      "outputs": [
        {
          "output_type": "stream",
          "text": [
            "10101010101010101010\n"
          ],
          "name": "stdout"
        }
      ]
    },
    {
      "cell_type": "code",
      "metadata": {
        "colab": {
          "base_uri": "https://localhost:8080/"
        },
        "id": "R0qZahPF73b5",
        "outputId": "064dea55-d47d-4582-e608-9612001cf57f"
      },
      "source": [
        "f=a*a\n",
        "print(f)"
      ],
      "execution_count": null,
      "outputs": [
        {
          "output_type": "stream",
          "text": [
            "100\n"
          ],
          "name": "stdout"
        }
      ]
    },
    {
      "cell_type": "markdown",
      "metadata": {
        "id": "M8ysHUh0Mckq"
      },
      "source": [
        "### 1.1.2. Konversi Format Data"
      ]
    },
    {
      "cell_type": "code",
      "metadata": {
        "colab": {
          "base_uri": "https://localhost:8080/"
        },
        "id": "753aoq4OMTJG",
        "outputId": "41e7d8ce-62c6-4d79-8b2d-92cfb39cac42"
      },
      "source": [
        "g=float(a)\n",
        "print(g)"
      ],
      "execution_count": null,
      "outputs": [
        {
          "output_type": "stream",
          "text": [
            "10.0\n"
          ],
          "name": "stdout"
        }
      ]
    },
    {
      "cell_type": "code",
      "metadata": {
        "colab": {
          "base_uri": "https://localhost:8080/"
        },
        "id": "M5EJFtoBMorS",
        "outputId": "14933076-b27d-4d46-eea9-be58ea34882c"
      },
      "source": [
        "h=str(a)\n",
        "type(h)"
      ],
      "execution_count": null,
      "outputs": [
        {
          "output_type": "execute_result",
          "data": {
            "text/plain": [
              "str"
            ]
          },
          "metadata": {
            "tags": []
          },
          "execution_count": 48
        }
      ]
    },
    {
      "cell_type": "code",
      "metadata": {
        "colab": {
          "base_uri": "https://localhost:8080/"
        },
        "id": "cimYJDV4MwFY",
        "outputId": "b01e5efb-834e-4aa8-a7ce-7f7505358880"
      },
      "source": [
        "i=int(c)\n",
        "type(i)"
      ],
      "execution_count": null,
      "outputs": [
        {
          "output_type": "execute_result",
          "data": {
            "text/plain": [
              "int"
            ]
          },
          "metadata": {
            "tags": []
          },
          "execution_count": 49
        }
      ]
    },
    {
      "cell_type": "markdown",
      "metadata": {
        "id": "c8nsnRxx8BLa"
      },
      "source": [
        "## 1.2 Data `list` dan `tuple`\n",
        " \n",
        "Data saintifik umumnya berupa urutan angka, misalnya: pengukuran suhu selama 30 memit dilakukan setiap 10 menit di sebuah ruang kuliah, dapat dituliskan dalam bentuk 31, 31, 32, 34. Kita dapat menerjemahkan fata tersebut dalam bentuk *sequence*."
      ]
    },
    {
      "cell_type": "markdown",
      "metadata": {
        "id": "9C2KbuV98uM1"
      },
      "source": [
        "### 1.2.1 `List`\n",
        "\n",
        "Data pengukuran dapat kita terjemahkan ke Python:"
      ]
    },
    {
      "cell_type": "code",
      "metadata": {
        "id": "RBdU0mWw8luF"
      },
      "source": [
        "suhu_r1=[31,31,32,34]\n",
        "menit=[0,10,20,30]"
      ],
      "execution_count": null,
      "outputs": []
    },
    {
      "cell_type": "markdown",
      "metadata": {
        "id": "c0dNvfMl9RTt"
      },
      "source": [
        "`list` dapat diambil nilai-nilai tertentu sesuai indeks yang dimulai dari 0. Contoh apabila kita ingin mengambil nilai suhu pada menit ke 10, karena 10 ada di urutan 2 maka indeksnya adalah 1 (2-1)."
      ]
    },
    {
      "cell_type": "code",
      "metadata": {
        "colab": {
          "base_uri": "https://localhost:8080/"
        },
        "id": "Fphyc2wT9QrW",
        "outputId": "c5415337-1b6e-45b7-a0f1-cc06fe93ce81"
      },
      "source": [
        "suhu_10=suhu_r1[2]\n",
        "print(suhu_10)"
      ],
      "execution_count": null,
      "outputs": [
        {
          "output_type": "stream",
          "text": [
            "32\n"
          ],
          "name": "stdout"
        }
      ]
    },
    {
      "cell_type": "markdown",
      "metadata": {
        "id": "BorLpSkt90uP"
      },
      "source": [
        "`list` juga dapat dimodifikasi isinya, dihapus, ataupun ditambah:"
      ]
    },
    {
      "cell_type": "code",
      "metadata": {
        "colab": {
          "base_uri": "https://localhost:8080/"
        },
        "id": "7TQgJpTR8z0X",
        "outputId": "c34ba5d9-434a-43d2-dbcb-236b62c9cca8"
      },
      "source": [
        "# mengganti pengukuran menit ke 0 karena ternyata salah\n",
        "suhu_r1[0]=33\n",
        "print(suhu_r1)"
      ],
      "execution_count": null,
      "outputs": [
        {
          "output_type": "stream",
          "text": [
            "[33, 31, 32, 34]\n"
          ],
          "name": "stdout"
        }
      ]
    },
    {
      "cell_type": "code",
      "metadata": {
        "colab": {
          "base_uri": "https://localhost:8080/"
        },
        "id": "tBMo6C0T-KmX",
        "outputId": "6aacf26f-d5e8-461a-bd21-95d038a29b84"
      },
      "source": [
        "# menambah pengukuran di menit 40\n",
        "suhu_r1.append(31)\n",
        "print(suhu_r1)"
      ],
      "execution_count": null,
      "outputs": [
        {
          "output_type": "stream",
          "text": [
            "[33, 31, 32, 34, 31]\n"
          ],
          "name": "stdout"
        }
      ]
    },
    {
      "cell_type": "code",
      "metadata": {
        "colab": {
          "base_uri": "https://localhost:8080/"
        },
        "id": "7oRck1DP-rqG",
        "outputId": "6b0ebd63-9be5-434c-8725-b6b27baf066f"
      },
      "source": [
        "# menghapus pengukuran di menit 40\n",
        "suhu_r1.pop(-1)\n",
        "print(suhu_r1)"
      ],
      "execution_count": null,
      "outputs": [
        {
          "output_type": "stream",
          "text": [
            "[33, 31, 32, 34]\n"
          ],
          "name": "stdout"
        }
      ]
    },
    {
      "cell_type": "markdown",
      "metadata": {
        "id": "8sqQBUj7A7zS"
      },
      "source": [
        "### 1.2.2. `Tuple`\n",
        " \n",
        "Secara umum hampir sama dengan `list`, perbedaan terletak pada cara penulisan yang menggunakan tanda kurung biasa `()` dan tidak bisa diubah-ubah isinya (*immutable*):"
      ]
    },
    {
      "cell_type": "code",
      "metadata": {
        "colab": {
          "base_uri": "https://localhost:8080/"
        },
        "id": "egU-DTikBSA6",
        "outputId": "cebdcd96-e4da-4518-bb34-d866cf402fd2"
      },
      "source": [
        "suhu_r1t=(31,32,33,34)\n",
        "print(suhu_r1t)"
      ],
      "execution_count": null,
      "outputs": [
        {
          "output_type": "stream",
          "text": [
            "(31, 32, 33, 34)\n"
          ],
          "name": "stdout"
        }
      ]
    },
    {
      "cell_type": "code",
      "metadata": {
        "colab": {
          "base_uri": "https://localhost:8080/",
          "height": 285
        },
        "id": "psImTI8ZBbAv",
        "outputId": "a198c44d-92f8-421e-d820-e4261d15e51d"
      },
      "source": [
        "# mencoba menambah angka pengukuran\n",
        "suhu_r1t.append(35)"
      ],
      "execution_count": null,
      "outputs": [
        {
          "output_type": "error",
          "ename": "AttributeError",
          "evalue": "ignored",
          "traceback": [
            "\u001b[0;31m---------------------------------------------------------------------------\u001b[0m",
            "\u001b[0;31mAttributeError\u001b[0m                            Traceback (most recent call last)",
            "\u001b[0;32m<ipython-input-26-5d111f6d0ca2>\u001b[0m in \u001b[0;36m<module>\u001b[0;34m()\u001b[0m\n\u001b[1;32m      1\u001b[0m \u001b[0;34m\u001b[0m\u001b[0m\n\u001b[1;32m      2\u001b[0m \u001b[0;31m# mencoba menambah angka pengukuran\u001b[0m\u001b[0;34m\u001b[0m\u001b[0;34m\u001b[0m\u001b[0;34m\u001b[0m\u001b[0m\n\u001b[0;32m----> 3\u001b[0;31m \u001b[0msuhu_r1t\u001b[0m\u001b[0;34m.\u001b[0m\u001b[0mappend\u001b[0m\u001b[0;34m(\u001b[0m\u001b[0;36m35\u001b[0m\u001b[0;34m)\u001b[0m\u001b[0;34m\u001b[0m\u001b[0;34m\u001b[0m\u001b[0m\n\u001b[0m",
            "\u001b[0;31mAttributeError\u001b[0m: 'tuple' object has no attribute 'append'"
          ]
        }
      ]
    },
    {
      "cell_type": "markdown",
      "metadata": {
        "id": "kMZU6RjOBnVm"
      },
      "source": [
        "Terlihat bahwa pada contoh di atas `tuple` tidak dapat diedit isinya."
      ]
    },
    {
      "cell_type": "markdown",
      "metadata": {
        "id": "uytiay2xF4tx"
      },
      "source": [
        "# 2. Kondisional (*Conditional*)\n",
        " \n",
        "Kondisional digunakan untuk *decision making* mirip seperti fungsi *IF* pada Excel. Misalkan kita ingin menjaga suhu ruangan agar berada di angka (31-35), menghidupkan *heater* ruangan saat suhu berada di bawah 31 derajat celcius dan mematikannya saat suhu melebihi  35 derajat:"
      ]
    },
    {
      "cell_type": "code",
      "metadata": {
        "colab": {
          "base_uri": "https://localhost:8080/"
        },
        "id": "XYvKLIYNGvj2",
        "outputId": "ca1eb948-1b43-4cf6-cc52-6515990b3c54"
      },
      "source": [
        "suhu_ruangan=33\n",
        " \n",
        "if suhu_ruangan<31:\n",
        "    print(\"Heater hidup\")\n",
        "elif suhu_ruangan>35:\n",
        "    print(\"Heater dimatikan\")\n",
        "else:\n",
        "    print(\"Suhu normal (32-35)\")"
      ],
      "execution_count": null,
      "outputs": [
        {
          "output_type": "stream",
          "text": [
            "Suhu normal (32-35)\n"
          ],
          "name": "stdout"
        }
      ]
    },
    {
      "cell_type": "markdown",
      "metadata": {
        "id": "tMAPCextIWMx"
      },
      "source": [
        "Kondisional dapat dibuat bertingkat, misalkan kita hanya akan menghidupkan *heater* hanya saat pulsa listrik masih lebih dari 5000"
      ]
    },
    {
      "cell_type": "code",
      "metadata": {
        "colab": {
          "base_uri": "https://localhost:8080/"
        },
        "id": "o6e6U13bIjVG",
        "outputId": "aa92d514-91e2-4852-f27a-240e10575d16"
      },
      "source": [
        "suhu_ruangan=30\n",
        "pulsa_listrik=3000\n",
        "if suhu_ruangan<31:    \n",
        "    if pulsa_listrik>5000:\n",
        "        print(\"Heater hidup\")\n",
        "    else:\n",
        "        print(\"Heater tidak dihidupkan, pulsa listrik < 5000\")\n",
        "elif suhu_ruangan>35:\n",
        "    print(\"Heater dimatikan\")\n",
        "else:\n",
        "    print(\"Suhu normal (32-35)\")"
      ],
      "execution_count": null,
      "outputs": [
        {
          "output_type": "stream",
          "text": [
            "Heater tidak dihidupkan, pulsa listrik < 5000\n"
          ],
          "name": "stdout"
        }
      ]
    },
    {
      "cell_type": "markdown",
      "metadata": {
        "id": "uwu_aiYVHxN2"
      },
      "source": [
        "# 3. Pengulangan (*Loop*)\n",
        " \n",
        "Seringkali, pasti, kita dihadapkan pada proses yang berulang. Agar tidak menghabiskan tenaga dan waktu kita dapat mengulang proses menggunakan perintah *looping* pada Python. Ada dua macam *loop* standar yaitu *for* dan *while*. Pada materi ini kita hanya akan membahas *for*.\n",
        " \n",
        "Misalkan, ternyata alat pengukur suhu kita salah, seharusnya angka pengukuran 1 derajat lebih tinggi dari angka yang didapatkan. Oleh karena itu, kita perlu menambahkan angka 1 pada semua suhu di `suhu_r1`:"
      ]
    },
    {
      "cell_type": "code",
      "metadata": {
        "colab": {
          "base_uri": "https://localhost:8080/"
        },
        "id": "TkBLPp4MKCJb",
        "outputId": "d9c1203f-8a12-437a-d114-d6d439793f4d"
      },
      "source": [
        "# kita perintahkan dulu untuk mencetak hasil pengukuran\n",
        " \n",
        "for suhu in suhu_r1:\n",
        "    print(suhu)"
      ],
      "execution_count": null,
      "outputs": [
        {
          "output_type": "stream",
          "text": [
            "33\n",
            "31\n",
            "32\n",
            "34\n"
          ],
          "name": "stdout"
        }
      ]
    },
    {
      "cell_type": "markdown",
      "metadata": {
        "id": "h8MK3DrcKZzZ"
      },
      "source": [
        "Mari kita koreksi:"
      ]
    },
    {
      "cell_type": "code",
      "metadata": {
        "colab": {
          "base_uri": "https://localhost:8080/"
        },
        "id": "tm-bgIMvKZDE",
        "outputId": "9bf3bba9-7d5c-41dc-8ded-4c1b0a0f1f9c"
      },
      "source": [
        "for suhu in suhu_r1:\n",
        "    print(suhu+1)"
      ],
      "execution_count": null,
      "outputs": [
        {
          "output_type": "stream",
          "text": [
            "34\n",
            "32\n",
            "33\n",
            "35\n"
          ],
          "name": "stdout"
        }
      ]
    },
    {
      "cell_type": "markdown",
      "metadata": {
        "id": "c8yZX0xwK0K9"
      },
      "source": [
        "Apabila kita akan menyimpan suhu terkoreksi ke dalam sebuah `list` kita dapat memanfaatkan append."
      ]
    },
    {
      "cell_type": "code",
      "metadata": {
        "colab": {
          "base_uri": "https://localhost:8080/"
        },
        "id": "q7t19WFLK6lq",
        "outputId": "b6fe92c1-be93-4563-8a37-1a9b4f25a8df"
      },
      "source": [
        "suhu_r1t=[] #list kosong untuk nanti diisi\n",
        " \n",
        "for suhu in suhu_r1:\n",
        "    suhu_terkoreksi=suhu+1\n",
        "    suhu_r1t.append(suhu_terkoreksi) #mengisi list kosong\n",
        " \n",
        "print(suhu_r1t)"
      ],
      "execution_count": null,
      "outputs": [
        {
          "output_type": "stream",
          "text": [
            "[34, 32, 33, 35]\n"
          ],
          "name": "stdout"
        }
      ]
    },
    {
      "cell_type": "markdown",
      "metadata": {
        "id": "D0T0SB4gCDjr"
      },
      "source": [
        "# 4. Fungsi\n",
        " \n",
        "Fungsi digunakan untuk memodifikasi sebuah data di dalam Python. Penulisan fungsi dalam Python akan dicontohkan, fungsi yang akan ditulis adalah fungsi untuk mengubah suhu dalam derajat celcius ke Kelvin:"
      ]
    },
    {
      "cell_type": "code",
      "metadata": {
        "id": "D_SN9mCsCmRv"
      },
      "source": [
        "def celcius2kelvin(suhu_celcius):\n",
        "    suhu_kelvin=273+suhu_celcius\n",
        "    return suhu_kelvin"
      ],
      "execution_count": null,
      "outputs": []
    },
    {
      "cell_type": "markdown",
      "metadata": {
        "id": "5cyeUQiKC5KW"
      },
      "source": [
        "Seperti contoh di atas, fungsi di awali dengan sintaks `def` kemudian diikuti nama fungsinya yaitu `celcius2kelvin`. Di dalam tanda kurung adalah variabel yang perlu kita masukkan di fungsinya yaitu `suhu_celcius`. Di dalam fungsi terdapat operasi untuk mengkonversi suhu `suhu_kelvin=273+suhu_celcius`. Terakhir, nilai `suhu_kelvin` kita berikan melalui `return suhu_kelvin`."
      ]
    },
    {
      "cell_type": "code",
      "metadata": {
        "id": "ZfmpNSCsCC1T"
      },
      "source": [
        "suhu_c=suhu_r1[0]\n",
        " \n",
        "suhu_k=celcius2kelvin(suhu_c)\n",
        "print(\"Suhu dalam Kelvin adalah\", suhu_k, \"derajat K\")"
      ],
      "execution_count": null,
      "outputs": []
    },
    {
      "cell_type": "markdown",
      "metadata": {
        "id": "yGtrM7yKEVLF"
      },
      "source": [
        "Contoh lain untuk konversi celcius ke Fahrenheit dengan rumus:\n",
        "\n",
        "$$ T_f = (9/5 \\times T_c) + 32 $$"
      ]
    },
    {
      "cell_type": "code",
      "metadata": {
        "id": "nm4L1iO4EUU-"
      },
      "source": [
        "def celcius2fahrenheit(suhu_celcius):\n",
        "    suhu_fahrenheit=(9/5*suhu_celcius)+32\n",
        "    return suhu_fahrenheit"
      ],
      "execution_count": null,
      "outputs": []
    },
    {
      "cell_type": "code",
      "metadata": {
        "colab": {
          "base_uri": "https://localhost:8080/"
        },
        "id": "ZDuR1fmaE7u0",
        "outputId": "310314e7-4666-4513-fdca-af3d6362cc86"
      },
      "source": [
        "suhu_f=celcius2fahrenheit(suhu_c)\n",
        "print(suhu_f)"
      ],
      "execution_count": null,
      "outputs": [
        {
          "output_type": "stream",
          "text": [
            "91.4\n"
          ],
          "name": "stdout"
        }
      ]
    },
    {
      "cell_type": "markdown",
      "metadata": {
        "id": "nvKHsdoROGzp"
      },
      "source": [
        "Contoh mengkombinasikan fungsi dan *loop* untuk mengkonversi suhu dan menyimpan hasil konversi dalam bentuk `list`:"
      ]
    },
    {
      "cell_type": "code",
      "metadata": {
        "id": "WKsmGI4zKzPq"
      },
      "source": [
        "suhu_r1_K = []\n",
        " \n",
        "for suhu_c in suhu_r1:\n",
        "    suhu_kelvin=celcius2kelvin(suhu_c)\n",
        "    suhu_r1_K.append(suhu_kelvin)\n",
        " \n",
        "print(suhu_r1_K)"
      ],
      "execution_count": null,
      "outputs": []
    },
    {
      "cell_type": "markdown",
      "metadata": {
        "id": "701R7vFpVou4"
      },
      "source": [
        "# 5. Modul \n",
        " \n",
        "Modul adalah kumpulan fungsi-fungsi yang memiliki kegunaan yang spesifik. Python memiliki beberapa modul bawaan seperti contohnya adalah modul `math` untuk operasi matematika. Untuk memanggil modul kita bisa menggunakan perintah `import`:"
      ]
    },
    {
      "cell_type": "code",
      "metadata": {
        "id": "HKP_b7pNV4ZS"
      },
      "source": [
        "import math"
      ],
      "execution_count": null,
      "outputs": []
    },
    {
      "cell_type": "markdown",
      "metadata": {
        "id": "OYtn3nkLWDTr"
      },
      "source": [
        "Fungsi apa saja yang ada di dalam modul `math`?"
      ]
    },
    {
      "cell_type": "code",
      "metadata": {
        "colab": {
          "base_uri": "https://localhost:8080/"
        },
        "id": "Y2OOqdecWCeV",
        "outputId": "18f0fb27-55ba-4a15-c0ce-b8ab8a3b4841"
      },
      "source": [
        "help(math)"
      ],
      "execution_count": null,
      "outputs": [
        {
          "output_type": "stream",
          "text": [
            "Help on built-in module math:\n",
            "\n",
            "NAME\n",
            "    math\n",
            "\n",
            "DESCRIPTION\n",
            "    This module provides access to the mathematical functions\n",
            "    defined by the C standard.\n",
            "\n",
            "FUNCTIONS\n",
            "    acos(x, /)\n",
            "        Return the arc cosine (measured in radians) of x.\n",
            "    \n",
            "    acosh(x, /)\n",
            "        Return the inverse hyperbolic cosine of x.\n",
            "    \n",
            "    asin(x, /)\n",
            "        Return the arc sine (measured in radians) of x.\n",
            "    \n",
            "    asinh(x, /)\n",
            "        Return the inverse hyperbolic sine of x.\n",
            "    \n",
            "    atan(x, /)\n",
            "        Return the arc tangent (measured in radians) of x.\n",
            "    \n",
            "    atan2(y, x, /)\n",
            "        Return the arc tangent (measured in radians) of y/x.\n",
            "        \n",
            "        Unlike atan(y/x), the signs of both x and y are considered.\n",
            "    \n",
            "    atanh(x, /)\n",
            "        Return the inverse hyperbolic tangent of x.\n",
            "    \n",
            "    ceil(x, /)\n",
            "        Return the ceiling of x as an Integral.\n",
            "        \n",
            "        This is the smallest integer >= x.\n",
            "    \n",
            "    copysign(x, y, /)\n",
            "        Return a float with the magnitude (absolute value) of x but the sign of y.\n",
            "        \n",
            "        On platforms that support signed zeros, copysign(1.0, -0.0)\n",
            "        returns -1.0.\n",
            "    \n",
            "    cos(x, /)\n",
            "        Return the cosine of x (measured in radians).\n",
            "    \n",
            "    cosh(x, /)\n",
            "        Return the hyperbolic cosine of x.\n",
            "    \n",
            "    degrees(x, /)\n",
            "        Convert angle x from radians to degrees.\n",
            "    \n",
            "    erf(x, /)\n",
            "        Error function at x.\n",
            "    \n",
            "    erfc(x, /)\n",
            "        Complementary error function at x.\n",
            "    \n",
            "    exp(x, /)\n",
            "        Return e raised to the power of x.\n",
            "    \n",
            "    expm1(x, /)\n",
            "        Return exp(x)-1.\n",
            "        \n",
            "        This function avoids the loss of precision involved in the direct evaluation of exp(x)-1 for small x.\n",
            "    \n",
            "    fabs(x, /)\n",
            "        Return the absolute value of the float x.\n",
            "    \n",
            "    factorial(x, /)\n",
            "        Find x!.\n",
            "        \n",
            "        Raise a ValueError if x is negative or non-integral.\n",
            "    \n",
            "    floor(x, /)\n",
            "        Return the floor of x as an Integral.\n",
            "        \n",
            "        This is the largest integer <= x.\n",
            "    \n",
            "    fmod(x, y, /)\n",
            "        Return fmod(x, y), according to platform C.\n",
            "        \n",
            "        x % y may differ.\n",
            "    \n",
            "    frexp(x, /)\n",
            "        Return the mantissa and exponent of x, as pair (m, e).\n",
            "        \n",
            "        m is a float and e is an int, such that x = m * 2.**e.\n",
            "        If x is 0, m and e are both 0.  Else 0.5 <= abs(m) < 1.0.\n",
            "    \n",
            "    fsum(seq, /)\n",
            "        Return an accurate floating point sum of values in the iterable seq.\n",
            "        \n",
            "        Assumes IEEE-754 floating point arithmetic.\n",
            "    \n",
            "    gamma(x, /)\n",
            "        Gamma function at x.\n",
            "    \n",
            "    gcd(x, y, /)\n",
            "        greatest common divisor of x and y\n",
            "    \n",
            "    hypot(x, y, /)\n",
            "        Return the Euclidean distance, sqrt(x*x + y*y).\n",
            "    \n",
            "    isclose(a, b, *, rel_tol=1e-09, abs_tol=0.0)\n",
            "        Determine whether two floating point numbers are close in value.\n",
            "        \n",
            "          rel_tol\n",
            "            maximum difference for being considered \"close\", relative to the\n",
            "            magnitude of the input values\n",
            "          abs_tol\n",
            "            maximum difference for being considered \"close\", regardless of the\n",
            "            magnitude of the input values\n",
            "        \n",
            "        Return True if a is close in value to b, and False otherwise.\n",
            "        \n",
            "        For the values to be considered close, the difference between them\n",
            "        must be smaller than at least one of the tolerances.\n",
            "        \n",
            "        -inf, inf and NaN behave similarly to the IEEE 754 Standard.  That\n",
            "        is, NaN is not close to anything, even itself.  inf and -inf are\n",
            "        only close to themselves.\n",
            "    \n",
            "    isfinite(x, /)\n",
            "        Return True if x is neither an infinity nor a NaN, and False otherwise.\n",
            "    \n",
            "    isinf(x, /)\n",
            "        Return True if x is a positive or negative infinity, and False otherwise.\n",
            "    \n",
            "    isnan(x, /)\n",
            "        Return True if x is a NaN (not a number), and False otherwise.\n",
            "    \n",
            "    ldexp(x, i, /)\n",
            "        Return x * (2**i).\n",
            "        \n",
            "        This is essentially the inverse of frexp().\n",
            "    \n",
            "    lgamma(x, /)\n",
            "        Natural logarithm of absolute value of Gamma function at x.\n",
            "    \n",
            "    log(...)\n",
            "        log(x, [base=math.e])\n",
            "        Return the logarithm of x to the given base.\n",
            "        \n",
            "        If the base not specified, returns the natural logarithm (base e) of x.\n",
            "    \n",
            "    log10(x, /)\n",
            "        Return the base 10 logarithm of x.\n",
            "    \n",
            "    log1p(x, /)\n",
            "        Return the natural logarithm of 1+x (base e).\n",
            "        \n",
            "        The result is computed in a way which is accurate for x near zero.\n",
            "    \n",
            "    log2(x, /)\n",
            "        Return the base 2 logarithm of x.\n",
            "    \n",
            "    modf(x, /)\n",
            "        Return the fractional and integer parts of x.\n",
            "        \n",
            "        Both results carry the sign of x and are floats.\n",
            "    \n",
            "    pow(x, y, /)\n",
            "        Return x**y (x to the power of y).\n",
            "    \n",
            "    radians(x, /)\n",
            "        Convert angle x from degrees to radians.\n",
            "    \n",
            "    remainder(x, y, /)\n",
            "        Difference between x and the closest integer multiple of y.\n",
            "        \n",
            "        Return x - n*y where n*y is the closest integer multiple of y.\n",
            "        In the case where x is exactly halfway between two multiples of\n",
            "        y, the nearest even value of n is used. The result is always exact.\n",
            "    \n",
            "    sin(x, /)\n",
            "        Return the sine of x (measured in radians).\n",
            "    \n",
            "    sinh(x, /)\n",
            "        Return the hyperbolic sine of x.\n",
            "    \n",
            "    sqrt(x, /)\n",
            "        Return the square root of x.\n",
            "    \n",
            "    tan(x, /)\n",
            "        Return the tangent of x (measured in radians).\n",
            "    \n",
            "    tanh(x, /)\n",
            "        Return the hyperbolic tangent of x.\n",
            "    \n",
            "    trunc(x, /)\n",
            "        Truncates the Real x to the nearest Integral toward 0.\n",
            "        \n",
            "        Uses the __trunc__ magic method.\n",
            "\n",
            "DATA\n",
            "    e = 2.718281828459045\n",
            "    inf = inf\n",
            "    nan = nan\n",
            "    pi = 3.141592653589793\n",
            "    tau = 6.283185307179586\n",
            "\n",
            "FILE\n",
            "    (built-in)\n",
            "\n",
            "\n"
          ],
          "name": "stdout"
        }
      ]
    },
    {
      "cell_type": "markdown",
      "metadata": {
        "id": "L17LDYAyW3Yq"
      },
      "source": [
        "Contoh penggunaan modul `math` untuk menghitung log10:"
      ]
    },
    {
      "cell_type": "code",
      "metadata": {
        "colab": {
          "base_uri": "https://localhost:8080/"
        },
        "id": "BbK4AtvdVn-_",
        "outputId": "b7fce3c4-c554-48d9-eb83-d42fec12f95b"
      },
      "source": [
        "help(math.log10)"
      ],
      "execution_count": null,
      "outputs": [
        {
          "output_type": "stream",
          "text": [
            "Help on built-in function log10 in module math:\n",
            "\n",
            "log10(x, /)\n",
            "    Return the base 10 logarithm of x.\n",
            "\n"
          ],
          "name": "stdout"
        }
      ]
    },
    {
      "cell_type": "code",
      "metadata": {
        "colab": {
          "base_uri": "https://localhost:8080/"
        },
        "id": "22bEWlokXCWS",
        "outputId": "8806b9b5-390e-45b2-f415-1fa9722bd569"
      },
      "source": [
        "hasil=math.log10(1000)\n",
        "print(hasil)"
      ],
      "execution_count": null,
      "outputs": [
        {
          "output_type": "stream",
          "text": [
            "3.0\n"
          ],
          "name": "stdout"
        }
      ]
    },
    {
      "cell_type": "markdown",
      "metadata": {
        "id": "78wbOy5hXBt9"
      },
      "source": [
        "# 6. Visualisasi Data\n",
        " \n",
        "Visualisasi data di Python paling umum menggunakan modul `matplotlib`. Modul ini seharusnya harus diinstall terlebih dahulu pada Anaconda Prompt dengan perintah `conda install matplotlib`, hanya saja pada Google Colab modul ini sudah otomatis terinstall.\n",
        " \n",
        "Pada contoh ini kita akan coba menvisualisasikan data temperatur terhadap waktu pengukuran:"
      ]
    },
    {
      "cell_type": "code",
      "metadata": {
        "colab": {
          "base_uri": "https://localhost:8080/",
          "height": 266
        },
        "id": "Q8Issa2oXxXn",
        "outputId": "bb8a8cfd-7def-4e1c-abfa-4a0692587c41"
      },
      "source": [
        "import matplotlib.pyplot as plt\n",
        " \n",
        "plt.plot(menit, suhu_r1)"
      ],
      "execution_count": null,
      "outputs": [
        {
          "output_type": "execute_result",
          "data": {
            "text/plain": [
              "[<matplotlib.lines.Line2D at 0x7fc4c61464d0>]"
            ]
          },
          "metadata": {
            "tags": []
          },
          "execution_count": 57
        },
        {
          "output_type": "display_data",
          "data": {
            "image/png": "[encoded data removed]",
            "text/plain": [
              "<Figure size 432x288 with 1 Axes>"
            ]
          },
          "metadata": {
            "tags": [],
            "needs_background": "light"
          }
        }
      ]
    },
    {
      "cell_type": "markdown",
      "metadata": {
        "id": "DyXn0R2RYEm5"
      },
      "source": [
        "Kita bisa menambah berbagai macam properti plot:"
      ]
    },
    {
      "cell_type": "code",
      "metadata": {
        "colab": {
          "base_uri": "https://localhost:8080/",
          "height": 315
        },
        "id": "5MuqHYXwYLXT",
        "outputId": "49f87075-e992-40fe-fe6f-4c4aedbe3842"
      },
      "source": [
        "plt.plot(menit, suhu_r1)\n",
        "plt.scatter(menit, suhu_r1, color=\"red\")\n",
        "plt.xlabel(\"Waktu [menit]\")\n",
        "plt.ylabel(\"Suhu [celcius]\")\n",
        "plt.title(\"Pengukuran Suhu di Ruang 1\")\n",
        "plt.grid()"
      ],
      "execution_count": null,
      "outputs": [
        {
          "output_type": "display_data",
          "data": {
            "image/png": "[encoded data removed]",
            "text/plain": [
              "<Figure size 432x288 with 1 Axes>"
            ]
          },
          "metadata": {
            "tags": [],
            "needs_background": "light"
          }
        }
      ]
    },
    {
      "cell_type": "markdown",
      "metadata": {
        "id": "w79Pd-E8Y3nn"
      },
      "source": [
        "Untuk menyimpan plot kita dapat menggunakan perintah `savefig`:"
      ]
    },
    {
      "cell_type": "code",
      "metadata": {
        "colab": {
          "base_uri": "https://localhost:8080/",
          "height": 246
        },
        "id": "5Nz8PITgZB92",
        "outputId": "36382c53-2e95-4283-9d7b-7481bab201d2"
      },
      "source": [
        " \n",
        "plt.plot(menit, suhu_r1)\n",
        "plt.scatter(menit, suhu_r1, color=\"red\")\n",
        "plt.xlabel(\"Waktu [menit]\")\n",
        "plt.ylabel(\"Suhu [celcius]\")\n",
        "plt.title(\"Pengukuran Suhu di Ruang 1\")\n",
        "plt.grid()\n",
        "plt.savefig(\"plot_suhu.png\", dpi=160)"
      ],
      "execution_count": null,
      "outputs": [
        {
          "output_type": "display_data",
          "data": {
            "image/png": "[encoded data removed]",
            "text/plain": [
              "<Figure size 432x288 with 1 Axes>"
            ]
          },
          "metadata": {
            "tags": [],
            "needs_background": "light"
          }
        }
      ]
    }
  ]
}